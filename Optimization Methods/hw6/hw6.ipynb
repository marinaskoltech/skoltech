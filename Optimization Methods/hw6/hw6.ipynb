{
 "cells": [
  {
   "cell_type": "code",
   "execution_count": 1,
   "metadata": {
    "collapsed": true
   },
   "outputs": [],
   "source": [
    "from cvxpy import *\n",
    "import numpy as np\n",
    "import matplotlib.pyplot as plt"
   ]
  },
  {
   "cell_type": "markdown",
   "metadata": {},
   "source": [
    "# Problem 1"
   ]
  },
  {
   "cell_type": "code",
   "execution_count": 42,
   "metadata": {
    "collapsed": true
   },
   "outputs": [],
   "source": [
    "def GetMatrix(links,cities):\n",
    "\n",
    "    A = np.zeros((len(cities), len(cities)));\n",
    "    for i in xrange(0, len(links), 3):\n",
    "        A[cities.index(links[i]), cities.index(links[i + 1])] =  links[i+2]\n",
    "           \n",
    "    return A   "
   ]
  },
  {
   "cell_type": "code",
   "execution_count": 43,
   "metadata": {
    "collapsed": false
   },
   "outputs": [],
   "source": [
    "cities = ['Atlanta','Boston', 'Calgary', 'Charleston','Chicago','Dallas', \n",
    "          'Denver', 'Duluth', 'ElPaso','Helena', 'Houston', 'KansasCity', 'LasVegas',\n",
    "          'LittleRock', 'LosAngeles', 'Miami', 'Montreal', 'Nashville',\n",
    "          'NewOrleans', 'NewYork', 'OklahomaCity', 'Omaha', 'Phoenix',\n",
    "          'Pittsburgh', 'Portland', 'Raleigh', 'SaintLouis','SaltLakeCity',\n",
    "          'SanFrancisco','SantaFe', 'SaultStMarie', 'Seattle', 'Toronto',\n",
    "          'Vancouver', 'Washington', 'Winnipeg'];\n",
    "\n",
    "blue = ['Winnipeg','Helena',4,\n",
    "    'Portland','SaltLakeCity',6,\n",
    "    'Omaha','Chicago',4,\n",
    "    'Montreal','NewYork',3,\n",
    "    'KansasCity','SaintLouis',2,\n",
    "    'SantaFe','OklahomaCity',3,\n",
    "    'Atlanta','Miami',5];\n",
    "\n",
    "blue = GetMatrix(blue,cities);\n",
    "\n",
    "white = ['Calgary','Winnipeg',6,\n",
    "    'Chicago','Toronto',4,\n",
    "    'SaintLouis','Chicago',2,\n",
    "    'Pittsburgh','NewYork',2,\n",
    "    'SanFrancisco','SaltLakeCity',5,\n",
    "    'Phoenix','Denver',5,\n",
    "    'LittleRock','Nashville',3];\n",
    "\n",
    "white = GetMatrix(white,cities);\n",
    "\n",
    "green = ['Portland','SanFrancisco',5,\n",
    "    'Helena','Denver',4,\n",
    "    'SaintLouis','Pittsburgh',5,\n",
    "    'LittleRock','NewOrleans',3,\n",
    "    'ElPaso','Houston',6];\n",
    "\n",
    "green = GetMatrix(green,cities);\n",
    "\n",
    "red = ['Helena','Omaha',5,\n",
    "    'Denver','OklahomaCity',4,\n",
    "    'ElPaso','Dallas',4,\n",
    "    'NewOrleans','Miami',6,\n",
    "    'NewYork','Boston',2,\n",
    "    'Duluth','Chicago',3];\n",
    "\n",
    "red = GetMatrix(red,cities);\n",
    "\n",
    "purple = ['Helena','SaltLakeCity',3,\n",
    "    'Denver','Omaha',4,\n",
    "    'Duluth','Toronto',6,\n",
    "    'Charleston','Miami',4,\n",
    "    'SanFrancisco','LosAngeles',3];\n",
    "purple = GetMatrix(purple,cities);\n",
    "\n",
    "orange = ['LasVegas','SaltLakeCity',3,\n",
    "    'Helena','Duluth',6,\n",
    "    'Chicago','Pittsburgh',3,\n",
    "    'Denver','KansasCity',4,\n",
    "    'NewYork','Washington',2,\n",
    "    'Atlanta','NewOrleans',4];\n",
    "\n",
    "orange = GetMatrix(orange,cities);\n",
    "\n",
    "black = ['LosAngeles','ElPaso',6,\n",
    "    'Winnipeg','Duluth',4,\n",
    "    'SaultStMarie','Montreal',5,\n",
    "    'Nashville','Raleigh',3];\n",
    "\n",
    "black = GetMatrix(black,cities);\n",
    "\n",
    "yellow = ['Seattle','Helena',6,\n",
    "    'ElPaso','OklahomaCity',5,\n",
    "    'Nashville','Pittsburgh',4];\n",
    "\n",
    "yellow = GetMatrix(yellow,cities);\n",
    "\n",
    "gray = ['Vancouver','Seattle',1,\n",
    "    'Portland','Seattle',1,\n",
    "    'Vancouver','Calgary',3,\n",
    "    'Seattle','Calgary',4,\n",
    "    'Calgary','Helena',4,\n",
    "    'Winnipeg','SaultStMarie',6,\n",
    "    'Duluth','SaultStMarie',3,\n",
    "    'SaultStMarie','Toronto',2,\n",
    "    'Toronto','Montreal',3,\n",
    "    'Montreal','Boston',2,\n",
    "    'Toronto','Pittsburgh',2,\n",
    "    'LasVegas','LosAngeles',2,\n",
    "    'LosAngeles','Phoenix',3,\n",
    "    'Phoenix','ElPaso',3,\n",
    "    'ElPaso','SantaFe',2,\n",
    "    'Phoenix','SantaFe',3,\n",
    "    'SantaFe','Denver',2,\n",
    "    'Duluth','Omaha',2,\n",
    "    'Omaha','KansasCity',1,\n",
    "    'KansasCity','OklahomaCity',2,\n",
    "    'OklahomaCity','Dallas',2,\n",
    "    'Dallas','Houston',1,\n",
    "    'Houston','NewOrleans',2,\n",
    "    'Dallas','LittleRock',2,\n",
    "    'OklahomaCity','LittleRock',2,\n",
    "    'LittleRock','SaintLouis',2,\n",
    "    'SaintLouis','Nashville',2,\n",
    "    'Nashville','Atlanta',1,\n",
    "    'Atlanta','Charleston',2,\n",
    "    'Charleston','Raleigh',2,\n",
    "    'Atlanta','Raleigh',2,\n",
    "    'Raleigh','Washington',2,\n",
    "    'Raleigh','Pittsburgh',2,\n",
    "    'Washington','Pittsburgh',2];\n",
    "\n",
    "gray = GetMatrix(gray,cities);\n",
    "\n",
    "profit = blue*1.0+white*1.5+green*2.0+red*2.0+purple*2.5+orange*1.0+black*1.0+yellow*2.0+gray*1.0;\n",
    "\n",
    "#TODO: symmetrize the matrix if necessary by uncommenting the next line\n",
    "profit_sym = np.dstack([profit, profit.transpose()]).max(axis=2)\n",
    "\n",
    "costs = np.ones((len(cities),1))*10;\n",
    "\n",
    "#TODO put your solution here"
   ]
  },
  {
   "cell_type": "code",
   "execution_count": 44,
   "metadata": {
    "collapsed": false
   },
   "outputs": [
    {
     "data": {
      "image/png": "[encoded data removed]",
      "text/plain": [
       "<matplotlib.figure.Figure at 0x9b48630>"
      ]
     },
     "metadata": {},
     "output_type": "display_data"
    }
   ],
   "source": [
    "plt.spy(profit_sym)\n",
    "plt.show()"
   ]
  },
  {
   "cell_type": "markdown",
   "metadata": {},
   "source": [
    "# Problem 2"
   ]
  },
  {
   "cell_type": "markdown",
   "metadata": {},
   "source": [
    "We habe an optimization problem\n",
    "\n",
    "$$\\begin{align}\n",
    "\\text{minimize}\\hspace{12mm}c^Tx\\\\\n",
    "\\text{subject to}\\hspace{5mm}Ax\\leq b\n",
    "\\end{align}$$\n",
    "\n",
    "This problem can be reformulated via indicator function\n",
    "\n",
    "$$\\begin{align}\n",
    "\\text{minimize}\\hspace{5mm}c^Tx + \\sum_{i=1}^mI_-(a_i^Tx-b_i)\n",
    "\\end{align}$$\n",
    "\n",
    "where $I_-(u) = 0$ if $u\\leq0$, $I_-(u)=\\infty$ otherwise. This problem has an approximation via logarithmic barrier\n",
    "\n",
    "$$\\begin{align}\n",
    "\\text{minimize}\\hspace{5mm}tc^Tx - \\sum_{i=1}^m\\log(b_i - a_i^Tx)\n",
    "\\end{align}$$\n",
    "\n",
    "So, firstly we have to solve last optimization problem. Setting $\\phi = - \\sum_{i=1}^m\\log(b_i - a_i^Tx)$ and $d_i = \\frac{1}{b_i - a_i^Tx}$, we can see that (Boyd) we have the following optimization problem\n",
    "\n",
    "$$\\begin{align}\n",
    "\\text{minimize}\\hspace{5mm}tc^Tx + \\phi(x)\n",
    "\\end{align}$$\n",
    "\n",
    "It can be easily seen that $\\nabla\\phi = A^Td$, $\\nabla^2\\phi = A^T\\text{diag}^2(d)A$. So the last optimization problem can be solved by Newton method for function $\\nabla(tc^Tx + \\phi(x)) = tc^T + A^Td$ as follows\n",
    "\n",
    "$$x_{k+1} = x_k - \\left(A^T\\text{diag}^2(d)A\\right)^{-1}\\cdot\\left(tc^T + A^Td\\right)$$"
   ]
  },
  {
   "cell_type": "code",
   "execution_count": 2,
   "metadata": {
    "collapsed": true
   },
   "outputs": [],
   "source": [
    "def newton(c, A, b, t, x0, tol=1e-10, n=2, maxiter=100000):\n",
    "    current_x = x0\n",
    "    iteration = 0\n",
    "    alpha = 1.0 / t\n",
    "   \n",
    "    while  iteration <= maxiter:\n",
    "        \n",
    "        #Calculating d\n",
    "        d = 1 / (b - A.dot(current_x))\n",
    "        D = np.diag(d ** 2)\n",
    "        \n",
    "        #Calculating jacobian\n",
    "        Jac = t * c + A.T.dot(d)\n",
    "        \n",
    "        #Calculating hessian\n",
    "        Hess = A.T.dot(D.dot(A))\n",
    "        \n",
    "    \n",
    "        if np.linalg.norm(np.linalg.det(Hess)) <= tol:\n",
    "            break\n",
    "        \n",
    "        # step\n",
    "        new_x = current_x - alpha * np.linalg.inv(Hess).dot(Jac)\n",
    "        \n",
    "        if np.linalg.norm(current_x - new_x) <= tol:\n",
    "            break\n",
    "        \n",
    "        current_x = new_x\n",
    "        iteration += 1\n",
    "    return current_x"
   ]
  },
  {
   "cell_type": "markdown",
   "metadata": {},
   "source": [
    "We choose $\\frac{1}{t}$ as a step in Newton method."
   ]
  },
  {
   "cell_type": "code",
   "execution_count": 40,
   "metadata": {
    "collapsed": false
   },
   "outputs": [],
   "source": [
    "# c = np.array([-1, -3])\n",
    "# A = np.array([[2, 0],[0, 2]])\n",
    "# b = np.array([1, 1])\n",
    "\n",
    "\n",
    "# z1 = Variable(2)\n",
    "# objective = Minimize(c.T * z1)\n",
    "# constraints = [A * z1 <= b]\n",
    "# prob = Problem(objective, constraints)\n",
    "# print prob.solve()\n",
    "# print z1.value\n",
    "\n",
    "# t = 100\n",
    "# z2 = Variable(2)\n",
    "# objective = Minimize(t * c.T * z2 - \n",
    "#                      log(b[0] - A[0].T*z2) -\n",
    "#                      log(b[1] - A[1].T*z2))\n",
    "# Problem(objective).solve()\n",
    "# print z2.value"
   ]
  },
  {
   "cell_type": "code",
   "execution_count": 5,
   "metadata": {
    "collapsed": false
   },
   "outputs": [
    {
     "name": "stderr",
     "output_type": "stream",
     "text": [
      "C:\\Users\\Evgeny\\Anaconda2\\lib\\site-packages\\ipykernel\\__main__.py:21: RuntimeWarning: invalid value encountered in less_equal\n"
     ]
    },
    {
     "data": {
      "image/png": "[encoded data removed]",
      "text/plain": [
       "<matplotlib.figure.Figure at 0x7f1b400>"
      ]
     },
     "metadata": {},
     "output_type": "display_data"
    }
   ],
   "source": [
    "c = np.array([-1, -1])\n",
    "A = np.array([[3, 2],[1, 4]])\n",
    "b = np.array([2, 2])\n",
    "\n",
    "x0 = np.zeros(2)\n",
    "x = x0\n",
    "solutions1 = []\n",
    "solutions1.append(x0)\n",
    "sol_x1, sol_y1 = [], []\n",
    "\n",
    "for t in range(1, 100):\n",
    "    solution = newton(c, A, b, t, x)\n",
    "    x = solution\n",
    "    solutions1.append(solution)\n",
    "    sol_x1.append(solution[0])\n",
    "    sol_y1.append(solution[1])\n",
    "    \n",
    "x, y = np.mgrid[-1:1:0.01, -1:1:0.01]\n",
    "\n",
    "x, y = np.where(A[0][0] * x + A[0][1] * y <= b[0], (x, y), np.nan)\n",
    "x, y = np.where(A[1][0] * x + A[1][1] * y <= b[1], (x, y), np.nan)\n",
    "\n",
    "feas_x1, feas_y1 = [], []\n",
    "for i in range(200):\n",
    "    for j in range(200):\n",
    "        feas_x1.append(x[i][j])\n",
    "        feas_y1.append(y[i][j])\n",
    "        \n",
    "\n",
    "#Plot        \n",
    "fig = plt.figure(figsize=(5,5))\n",
    "title = fig.suptitle('Feasible set and central path', fontsize=\"x-large\")\n",
    "\n",
    "feas = fig.add_subplot(211)\n",
    "feas.grid(True)\n",
    "feas.plot(feas_x1, feas_y1, 'g', alpha=.5)\n",
    "feas.plot(sol_x1, sol_y1, color='black')\n",
    "feas.scatter(sol_x1, sol_y1, color='red')\n",
    "\n",
    "plt.show()"
   ]
  },
  {
   "cell_type": "code",
   "execution_count": 8,
   "metadata": {
    "collapsed": false
   },
   "outputs": [
    {
     "name": "stderr",
     "output_type": "stream",
     "text": [
      "C:\\Users\\Evgeny\\Anaconda2\\lib\\site-packages\\ipykernel\\__main__.py:20: RuntimeWarning: invalid value encountered in less_equal\n"
     ]
    },
    {
     "data": {
      "image/png": "[encoded data removed]",
      "text/plain": [
       "<matplotlib.figure.Figure at 0x9b460b8>"
      ]
     },
     "metadata": {},
     "output_type": "display_data"
    }
   ],
   "source": [
    "c = np.array([1, 1])\n",
    "A = np.array([[-3, 2],[1, -4]])\n",
    "b = np.array([2, 1])\n",
    "\n",
    "x0 = np.zeros(2)\n",
    "x = x0\n",
    "solutions1 = []\n",
    "solutions1.append(x0)\n",
    "sol_x1, sol_y1 = [], []\n",
    "for t in range(1, 100):\n",
    "    solution = newton(c, A, b, t, x)\n",
    "    x = solution\n",
    "    solutions1.append(solution)\n",
    "    sol_x1.append(solution[0])\n",
    "    sol_y1.append(solution[1])\n",
    "    \n",
    "x, y = np.mgrid[-1:1:0.01, -1:1:0.01]\n",
    "\n",
    "x, y = np.where(A[0][0] * x + A[0][1] * y <= b[0], (x, y), np.nan)\n",
    "x, y = np.where(A[1][0] * x + A[1][1] * y <= b[1], (x, y), np.nan)\n",
    "\n",
    "feas_x1, feas_y1 = [], []\n",
    "for i in range(200):\n",
    "    for j in range(200):\n",
    "        feas_x1.append(x[i][j])\n",
    "        feas_y1.append(y[i][j])\n",
    "        \n",
    "\n",
    "#Plot        \n",
    "fig = plt.figure(figsize=(5,5))\n",
    "title = fig.suptitle('Feasible set and central path', fontsize=\"x-large\")\n",
    "\n",
    "feas = fig.add_subplot(211)\n",
    "feas.grid(True)\n",
    "feas.plot(feas_x1, feas_y1, 'g', alpha=.5)\n",
    "feas.plot(sol_x1, sol_y1, color='black')\n",
    "feas.scatter(sol_x1, sol_y1, color='red')\n",
    "\n",
    "plt.show()"
   ]
  },
  {
   "cell_type": "code",
   "execution_count": 39,
   "metadata": {
    "collapsed": false
   },
   "outputs": [
    {
     "name": "stderr",
     "output_type": "stream",
     "text": [
      "C:\\Users\\Evgeny\\Anaconda2\\lib\\site-packages\\ipykernel\\__main__.py:21: RuntimeWarning: invalid value encountered in less_equal\n"
     ]
    },
    {
     "data": {
      "image/png": "[encoded data removed]",
      "text/plain": [
       "<matplotlib.figure.Figure at 0xbcc6080>"
      ]
     },
     "metadata": {},
     "output_type": "display_data"
    }
   ],
   "source": [
    "c = np.array([-1, -3])\n",
    "A = np.array([[2, 0],[0, 2]])\n",
    "b = np.array([1, 1])\n",
    "\n",
    "x0 = np.zeros(2)\n",
    "x = x0\n",
    "solutions1 = []\n",
    "solutions1.append(x0)\n",
    "sol_x1, sol_y1 = [], []\n",
    "for t in range(1, 100):\n",
    "    solution = newton(c, A, b, t, x)\n",
    "    x = solution\n",
    "    solutions1.append(solution)\n",
    "    sol_x1.append(solution[0])\n",
    "    sol_y1.append(solution[1])\n",
    "    \n",
    "x, y = np.mgrid[-1:1:0.01, -1:1:0.01]\n",
    "\n",
    "x, y = np.where(A[0][0] * x + A[0][1] * y <= b[0], (x, y), np.nan)\n",
    "x, y = np.where(A[1][0] * x + A[1][1] * y <= b[1], (x, y), np.nan)\n",
    "\n",
    "feas_x1, feas_y1 = [], []\n",
    "for i in range(200):\n",
    "    for j in range(200):\n",
    "        feas_x1.append(x[i][j])\n",
    "        feas_y1.append(y[i][j])\n",
    "        \n",
    "\n",
    "#Plot        \n",
    "fig = plt.figure(figsize=(5,5))\n",
    "title = fig.suptitle('Feasible set and central path', fontsize=\"x-large\")\n",
    "\n",
    "feas = fig.add_subplot(211)\n",
    "feas.grid(True)\n",
    "feas.plot(feas_x1, feas_y1, 'g', alpha=.5)\n",
    "feas.plot(sol_x1, sol_y1, color='black')\n",
    "feas.scatter(sol_x1, sol_y1, color='red')\n",
    "\n",
    "plt.show()"
   ]
  },
  {
   "cell_type": "code",
   "execution_count": null,
   "metadata": {
    "collapsed": true
   },
   "outputs": [],
   "source": []
  }
 ],
 "metadata": {
  "anaconda-cloud": {},
  "kernelspec": {
   "display_name": "Python [default]",
   "language": "python",
   "name": "python2"
  },
  "language_info": {
   "codemirror_mode": {
    "name": "ipython",
    "version": 2
   },
   "file_extension": ".py",
   "mimetype": "text/x-python",
   "name": "python",
   "nbconvert_exporter": "python",
   "pygments_lexer": "ipython2",
   "version": "2.7.12"
  }
 },
 "nbformat": 4,
 "nbformat_minor": 1
}
